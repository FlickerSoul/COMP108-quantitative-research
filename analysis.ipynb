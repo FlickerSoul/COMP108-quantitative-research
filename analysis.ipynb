{
 "cells": [
  {
   "cell_type": "code",
   "execution_count": null,
   "id": "initial_id",
   "metadata": {
    "collapsed": true,
    "is_executing": true
   },
   "outputs": [],
   "source": [
    "import pandas as pd\n",
    "from pathlib import Path\n",
    "from typing import Tuple\n",
    "import functools\n",
    "from pandas.core.groupby import DataFrameGroupBy"
   ]
  },
  {
   "cell_type": "code",
   "execution_count": 2,
   "outputs": [],
   "source": [
    "CHECK_MAPPING = {\n",
    "    \"-1\": \"NOT SURE\",\n",
    "    \"\": \"NOT RELEVANT: BAD\",\n",
    "    \"1\": \"RELEVANT\",\n",
    "    \"2\": \"RELEVANT ENOUGH\",\n",
    "    \"3\": \"NOT RELEVANT: USED THE FIELD, NOT CONTRIBUTING\",\n",
    "    \"4\": \"NOT RELEVANT: FROM OTHER FIELD, NOT SEEING LINKS, LIKE \",\n",
    "    \"5\": \"NOT RELEVANT: IN SURROUNDING FIELD, NOT RELEVANT ENOUGH, LIKE VISUALIZATION TOOLS ETC.\",\n",
    "}\n",
    "\n",
    "DATA_PATH = Path(\"./xlsx\")\n",
    "IEEE_PATH = DATA_PATH / \"ieee-code_clone|detection-metadata.xlsx\"\n",
    "ACM_PATH = DATA_PATH / \"acm-code_clone|detection-abstract.xlsx\""
   ],
   "metadata": {
    "collapsed": false,
    "ExecuteTime": {
     "end_time": "2023-10-19T22:15:57.517923Z",
     "start_time": "2023-10-19T22:15:57.514523Z"
    }
   },
   "id": "21d7848fef777a5d"
  },
  {
   "cell_type": "code",
   "execution_count": 3,
   "outputs": [],
   "source": [
    "def read_xlsx_and_group_by_check(path: Path) -> Tuple[pd.DataFrame, DataFrameGroupBy]:\n",
    "    excel_data = pd.read_excel(path, dtype=str)\n",
    "    excel_data.fillna(\"\", inplace=True)\n",
    "    groups = excel_data.groupby(\"check\")\n",
    "\n",
    "    for key in groups.indices:\n",
    "        assert key in CHECK_MAPPING, f\"index {key} not in check mapping\"\n",
    "\n",
    "    return excel_data, groups"
   ],
   "metadata": {
    "collapsed": false,
    "ExecuteTime": {
     "end_time": "2023-10-19T22:15:57.521188Z",
     "start_time": "2023-10-19T22:15:57.517161Z"
    }
   },
   "id": "b3280222aac45bfc"
  },
  {
   "cell_type": "code",
   "execution_count": 4,
   "outputs": [],
   "source": [
    "def summarize_xlsx_group(grouped: DataFrameGroupBy) -> None:\n",
    "    for check_flag, check_meaning in CHECK_MAPPING.items():\n",
    "        try:\n",
    "            group = grouped.get_group(check_flag)\n",
    "        except KeyError:\n",
    "            print(f\"{check_meaning}: no data\")\n",
    "        else:\n",
    "            print(f\"{check_meaning}: {len(group)}\")"
   ],
   "metadata": {
    "collapsed": false,
    "ExecuteTime": {
     "end_time": "2023-10-19T22:15:57.524542Z",
     "start_time": "2023-10-19T22:15:57.520029Z"
    }
   },
   "id": "616012ddfaf72f8f"
  },
  {
   "cell_type": "code",
   "execution_count": 5,
   "outputs": [],
   "source": [
    "def report_empty_in_field(data: pd.DataFrame, field: str) -> pd.DataFrame:\n",
    "    return data[data[field] == \"\"]"
   ],
   "metadata": {
    "collapsed": false,
    "ExecuteTime": {
     "end_time": "2023-10-19T22:15:57.527619Z",
     "start_time": "2023-10-19T22:15:57.523152Z"
    }
   },
   "id": "9eba0afe79179f12"
  },
  {
   "cell_type": "code",
   "execution_count": 6,
   "outputs": [],
   "source": [
    "def dedup_by_field(\n",
    "    table1: pd.DataFrame, table2: pd.DataFrame, field1: str = \"DOI\", field2: str = None\n",
    ") -> pd.DataFrame:\n",
    "    if field2 is None:\n",
    "        field2 = field1\n",
    "\n",
    "    intersection = table1.merge(\n",
    "        table2[[field2]],\n",
    "        left_on=table1[field1].str.lower(),\n",
    "        right_on=table2[field2].str.lower(),\n",
    "        how=\"inner\",\n",
    "    )\n",
    "\n",
    "    if field2 == field1:\n",
    "        intersection = (\n",
    "            intersection[\n",
    "                ~(\n",
    "                    (intersection[f\"{field1}_x\"] == \"\")\n",
    "                    | (intersection[f\"{field2}_y\"] == \"\")\n",
    "                )\n",
    "            ]\n",
    "            .drop(columns=[f\"{field2}_y\"])\n",
    "            .rename(columns={f\"{field1}_x\": field1})\n",
    "        )\n",
    "    else:\n",
    "        intersection = intersection[\n",
    "            ~((intersection[field1] == \"\") | (intersection[field2] == \"\"))\n",
    "        ].drop(columns=[field2])\n",
    "\n",
    "    return intersection.drop(columns=[\"key_0\"]).drop_duplicates()\n",
    "\n",
    "\n",
    "def dedup_by_fields(table1, table2, fields):\n",
    "    return functools.reduce(\n",
    "        (lambda left, right: pd.concat([left, right])),\n",
    "        map(lambda t: dedup_by_field(table1, table2, *t), fields),\n",
    "    ).drop_duplicates()"
   ],
   "metadata": {
    "collapsed": false,
    "ExecuteTime": {
     "end_time": "2023-10-19T22:15:57.530836Z",
     "start_time": "2023-10-19T22:15:57.527045Z"
    }
   },
   "id": "3dd3bbb83f4bda17"
  },
  {
   "cell_type": "code",
   "execution_count": 7,
   "outputs": [
    {
     "name": "stdout",
     "output_type": "stream",
     "text": [
      "NOT SURE: 3\n",
      "NOT RELEVANT: BAD: 26\n",
      "RELEVANT: 208\n",
      "RELEVANT ENOUGH: 18\n",
      "NOT RELEVANT: USED THE FIELD, NOT CONTRIBUTING: 49\n",
      "NOT RELEVANT: FROM OTHER FIELD, NOT SEEING LINKS, LIKE : 1\n",
      "NOT RELEVANT: IN SURROUNDING FIELD, NOT RELEVANT ENOUGH, LIKE VISUALIZATION TOOLS ETC.: 2\n"
     ]
    }
   ],
   "source": [
    "ieee_data, grouped_ieee_data = read_xlsx_and_group_by_check(IEEE_PATH)\n",
    "summarize_xlsx_group(grouped_ieee_data)"
   ],
   "metadata": {
    "collapsed": false,
    "ExecuteTime": {
     "end_time": "2023-10-19T22:15:57.666129Z",
     "start_time": "2023-10-19T22:15:57.529407Z"
    }
   },
   "id": "a6adc4f1e8ed2e64"
  },
  {
   "cell_type": "code",
   "execution_count": 8,
   "outputs": [
    {
     "name": "stdout",
     "output_type": "stream",
     "text": [
      "NOT SURE: no data\n",
      "NOT RELEVANT: BAD: 75\n",
      "RELEVANT: 18\n",
      "RELEVANT ENOUGH: no data\n",
      "NOT RELEVANT: USED THE FIELD, NOT CONTRIBUTING: 4\n",
      "NOT RELEVANT: FROM OTHER FIELD, NOT SEEING LINKS, LIKE : no data\n",
      "NOT RELEVANT: IN SURROUNDING FIELD, NOT RELEVANT ENOUGH, LIKE VISUALIZATION TOOLS ETC.: no data\n"
     ]
    }
   ],
   "source": [
    "acm_data, grouped_acm_data = read_xlsx_and_group_by_check(ACM_PATH)\n",
    "summarize_xlsx_group(grouped_acm_data)"
   ],
   "metadata": {
    "collapsed": false,
    "ExecuteTime": {
     "end_time": "2023-10-19T22:15:57.715464Z",
     "start_time": "2023-10-19T22:15:57.663079Z"
    }
   },
   "id": "9d2360113cea36f8"
  },
  {
   "cell_type": "code",
   "execution_count": 9,
   "outputs": [],
   "source": [
    "# see if there are duplicated ACM entries in IEEE\n",
    "# we filter those out before manually filtering\n",
    "duplicated = dedup_by_fields(\n",
    "    grouped_ieee_data.get_group(\"1\"),\n",
    "    acm_data,\n",
    "    [\n",
    "        (\"DOI\", \"DOI\"),\n",
    "        (\"ISBNs\", \"ISBN\"),\n",
    "        (\"ISSN\", \"ISSN\"),\n",
    "        (\"Abstract\", \"Abstract Note\"),\n",
    "        (\"Document Title\", \"Title\"),\n",
    "    ],\n",
    ")"
   ],
   "metadata": {
    "collapsed": false,
    "ExecuteTime": {
     "end_time": "2023-10-19T22:15:57.751287Z",
     "start_time": "2023-10-19T22:15:57.716725Z"
    }
   },
   "id": "7525ddd01ec24fdc"
  }
 ],
 "metadata": {
  "kernelspec": {
   "display_name": "Python 3",
   "language": "python",
   "name": "python3"
  },
  "language_info": {
   "codemirror_mode": {
    "name": "ipython",
    "version": 2
   },
   "file_extension": ".py",
   "mimetype": "text/x-python",
   "name": "python",
   "nbconvert_exporter": "python",
   "pygments_lexer": "ipython2",
   "version": "2.7.6"
  }
 },
 "nbformat": 4,
 "nbformat_minor": 5
}
