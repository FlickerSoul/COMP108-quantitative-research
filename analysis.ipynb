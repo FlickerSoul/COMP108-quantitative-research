{
 "cells": [
  {
   "cell_type": "code",
   "execution_count": 1,
   "id": "initial_id",
   "metadata": {
    "collapsed": true,
    "ExecuteTime": {
     "end_time": "2023-10-20T09:48:14.642715Z",
     "start_time": "2023-10-20T09:48:14.331814Z"
    }
   },
   "outputs": [],
   "source": [
    "import numpy as np\n",
    "import pandas as pd\n",
    "from pathlib import Path\n",
    "from typing import Tuple\n",
    "import functools\n",
    "from pandas.core.groupby import DataFrameGroupBy\n",
    "import itertools"
   ]
  },
  {
   "cell_type": "code",
   "execution_count": 2,
   "outputs": [],
   "source": [
    "CHECK_MAPPING = {\n",
    "    \"-1\": \"NOT SURE\",\n",
    "    \"0\": \"NOT RELEVANT: BAD\",\n",
    "    \"1\": \"RELEVANT\",\n",
    "    \"2\": \"RELEVANT ENOUGH\",\n",
    "    \"3\": \"NOT RELEVANT: USED THE FIELD, NOT CONTRIBUTING\",\n",
    "    \"4\": \"NOT RELEVANT: FROM OTHER FIELD, NOT SEEING LINKS, LIKE \",\n",
    "    \"5\": \"NOT RELEVANT: IN SURROUNDING FIELD, NOT RELEVANT ENOUGH, LIKE VISUALIZATION TOOLS ETC.\",\n",
    "}\n",
    "\n",
    "DATA_PATH = Path(\"./xlsx\")\n",
    "IEEE_PATH = DATA_PATH / \"ieee-code_clone|detection-metadata.xlsx\"\n",
    "ACM_PATH = DATA_PATH / \"acm-code_clone|detection-abstract.xlsx\"\n",
    "\n",
    "DUP_SIGNATURE_FIELDS = [\n",
    "    (\"DOI\", \"DOI\"),\n",
    "    (\"ISBNs\", \"ISBN\"),\n",
    "    (\"ISSN\", \"ISSN\"),\n",
    "    (\"Abstract\", \"Abstract Note\"),\n",
    "    (\"Document Title\", \"Title\"),\n",
    "]"
   ],
   "metadata": {
    "collapsed": false,
    "ExecuteTime": {
     "end_time": "2023-10-20T09:48:14.646897Z",
     "start_time": "2023-10-20T09:48:14.643532Z"
    }
   },
   "id": "21d7848fef777a5d"
  },
  {
   "cell_type": "code",
   "execution_count": 3,
   "outputs": [],
   "source": [
    "def read_xlsx_and_group_by_check(path: Path) -> Tuple[pd.DataFrame, DataFrameGroupBy]:\n",
    "    excel_data = pd.read_excel(path, dtype=str)\n",
    "    excel_data.fillna(\"\", inplace=True)\n",
    "    groups = excel_data.groupby(\"check\")\n",
    "\n",
    "    for key in groups.groups:\n",
    "        assert key in CHECK_MAPPING, f\"index {key} not in check mapping\"\n",
    "\n",
    "    return excel_data, groups"
   ],
   "metadata": {
    "collapsed": false,
    "ExecuteTime": {
     "end_time": "2023-10-20T09:48:14.650605Z",
     "start_time": "2023-10-20T09:48:14.646678Z"
    }
   },
   "id": "b3280222aac45bfc"
  },
  {
   "cell_type": "code",
   "execution_count": 4,
   "outputs": [],
   "source": [
    "def summarize_xlsx_group(grouped: DataFrameGroupBy) -> None:\n",
    "    for check_flag, check_meaning in CHECK_MAPPING.items():\n",
    "        try:\n",
    "            group = grouped.get_group(check_flag)\n",
    "        except KeyError:\n",
    "            print(f\"{check_meaning}: no data\")\n",
    "        else:\n",
    "            print(f\"{check_meaning}: {len(group)}\")"
   ],
   "metadata": {
    "collapsed": false,
    "ExecuteTime": {
     "end_time": "2023-10-20T09:48:14.654945Z",
     "start_time": "2023-10-20T09:48:14.650672Z"
    }
   },
   "id": "616012ddfaf72f8f"
  },
  {
   "cell_type": "code",
   "execution_count": 5,
   "outputs": [],
   "source": [
    "def report_empty_in_field(data: pd.DataFrame, field: str) -> pd.DataFrame:\n",
    "    return data[data[field] == \"\"]"
   ],
   "metadata": {
    "collapsed": false,
    "ExecuteTime": {
     "end_time": "2023-10-20T09:48:14.659323Z",
     "start_time": "2023-10-20T09:48:14.655074Z"
    }
   },
   "id": "9eba0afe79179f12"
  },
  {
   "cell_type": "code",
   "execution_count": 6,
   "outputs": [],
   "source": [
    "def dedup_by_field(\n",
    "    table1: pd.DataFrame, table2: pd.DataFrame, field1: str = \"DOI\", field2: str = None\n",
    ") -> pd.DataFrame:\n",
    "    if field2 is None:\n",
    "        field2 = field1\n",
    "\n",
    "    intersection = table1.merge(\n",
    "        table2[[field2]],\n",
    "        left_on=table1[field1].str.lower(),\n",
    "        right_on=table2[field2].str.lower(),\n",
    "        how=\"inner\",\n",
    "    )\n",
    "\n",
    "    if field2 == field1:\n",
    "        intersection = (\n",
    "            intersection[\n",
    "                ~(\n",
    "                    (intersection[f\"{field1}_x\"] == \"\")\n",
    "                    | (intersection[f\"{field2}_y\"] == \"\")\n",
    "                )\n",
    "            ]\n",
    "            .drop(columns=[f\"{field2}_y\"])\n",
    "            .rename(columns={f\"{field1}_x\": field1})\n",
    "        )\n",
    "    else:\n",
    "        intersection = intersection[\n",
    "            ~((intersection[field1] == \"\") | (intersection[field2] == \"\"))\n",
    "        ].drop(columns=[field2])\n",
    "\n",
    "    return intersection.drop(columns=[\"key_0\"]).drop_duplicates()\n",
    "\n",
    "\n",
    "def dedup_by_fields(table1, table2, fields):\n",
    "    return functools.reduce(\n",
    "        (lambda left, right: pd.concat([left, right])),\n",
    "        map(lambda t: dedup_by_field(table1, table2, *t), fields),\n",
    "    ).drop_duplicates()"
   ],
   "metadata": {
    "collapsed": false,
    "ExecuteTime": {
     "end_time": "2023-10-20T09:48:14.663335Z",
     "start_time": "2023-10-20T09:48:14.659655Z"
    }
   },
   "id": "3dd3bbb83f4bda17"
  },
  {
   "cell_type": "code",
   "execution_count": 7,
   "outputs": [
    {
     "name": "stdout",
     "output_type": "stream",
     "text": [
      "NOT SURE: 3\n",
      "NOT RELEVANT: BAD: 26\n",
      "RELEVANT: 208\n",
      "RELEVANT ENOUGH: 18\n",
      "NOT RELEVANT: USED THE FIELD, NOT CONTRIBUTING: 49\n",
      "NOT RELEVANT: FROM OTHER FIELD, NOT SEEING LINKS, LIKE : 1\n",
      "NOT RELEVANT: IN SURROUNDING FIELD, NOT RELEVANT ENOUGH, LIKE VISUALIZATION TOOLS ETC.: 2\n"
     ]
    }
   ],
   "source": [
    "ieee_data, grouped_ieee_data = read_xlsx_and_group_by_check(IEEE_PATH)\n",
    "summarize_xlsx_group(grouped_ieee_data)"
   ],
   "metadata": {
    "collapsed": false,
    "ExecuteTime": {
     "end_time": "2023-10-20T09:48:14.802136Z",
     "start_time": "2023-10-20T09:48:14.662260Z"
    }
   },
   "id": "a6adc4f1e8ed2e64"
  },
  {
   "cell_type": "code",
   "execution_count": 8,
   "outputs": [
    {
     "name": "stdout",
     "output_type": "stream",
     "text": [
      "NOT SURE: no data\n",
      "NOT RELEVANT: BAD: 6\n",
      "RELEVANT: 58\n",
      "RELEVANT ENOUGH: 9\n",
      "NOT RELEVANT: USED THE FIELD, NOT CONTRIBUTING: 22\n",
      "NOT RELEVANT: FROM OTHER FIELD, NOT SEEING LINKS, LIKE : 1\n",
      "NOT RELEVANT: IN SURROUNDING FIELD, NOT RELEVANT ENOUGH, LIKE VISUALIZATION TOOLS ETC.: 1\n"
     ]
    }
   ],
   "source": [
    "acm_data, grouped_acm_data = read_xlsx_and_group_by_check(ACM_PATH)\n",
    "summarize_xlsx_group(grouped_acm_data)"
   ],
   "metadata": {
    "collapsed": false,
    "ExecuteTime": {
     "end_time": "2023-10-20T09:48:14.849515Z",
     "start_time": "2023-10-20T09:48:14.800247Z"
    }
   },
   "id": "9d2360113cea36f8"
  },
  {
   "cell_type": "code",
   "execution_count": 9,
   "outputs": [],
   "source": [
    "# see if there are duplicated ACM entries in IEEE\n",
    "# we filter those out before manually filtering\n",
    "group_dedup = {\n",
    "    group_id: dedup_by_fields(\n",
    "        grouped_ieee_data.get_group(group_id)\n",
    "        if group_id in grouped_ieee_data.groups\n",
    "        else pd.DataFrame(index=ieee_data.index, columns=ieee_data.columns),\n",
    "        grouped_acm_data.get_group(group_id)\n",
    "        if group_id in grouped_acm_data.groups\n",
    "        else pd.DataFrame(index=acm_data.index, columns=acm_data.columns),\n",
    "        DUP_SIGNATURE_FIELDS,\n",
    "    )\n",
    "    for group_id in CHECK_MAPPING.keys()\n",
    "}"
   ],
   "metadata": {
    "collapsed": false,
    "ExecuteTime": {
     "end_time": "2023-10-20T09:48:14.914130Z",
     "start_time": "2023-10-20T09:48:14.851207Z"
    }
   },
   "id": "7525ddd01ec24fdc"
  },
  {
   "cell_type": "code",
   "execution_count": 10,
   "outputs": [],
   "source": [
    "different_group_dedup = dict(\n",
    "    filter(\n",
    "        (lambda t: len(t[1]) > 0),\n",
    "        (\n",
    "            (\n",
    "                (group_id_1, group_id_2),\n",
    "                dedup_by_fields(\n",
    "                    grouped_ieee_data.get_group(group_id_1)\n",
    "                    if group_id_1 in grouped_ieee_data.groups\n",
    "                    else pd.DataFrame(index=ieee_data.index, columns=ieee_data.columns),\n",
    "                    grouped_acm_data.get_group(group_id_2)\n",
    "                    if group_id_2 in grouped_acm_data.groups\n",
    "                    else pd.DataFrame(index=acm_data.index, columns=acm_data.columns),\n",
    "                    DUP_SIGNATURE_FIELDS,\n",
    "                ),\n",
    "            )\n",
    "            for group_id_1, group_id_2 in itertools.product(\n",
    "                CHECK_MAPPING.keys(), CHECK_MAPPING.keys()\n",
    "            )\n",
    "            if group_id_1 != group_id_2\n",
    "        ),\n",
    "    )\n",
    ")"
   ],
   "metadata": {
    "collapsed": false,
    "ExecuteTime": {
     "end_time": "2023-10-20T09:48:15.188172Z",
     "start_time": "2023-10-20T09:48:14.921971Z"
    }
   },
   "id": "c9012cfabf486e1f"
  },
  {
   "cell_type": "code",
   "execution_count": 11,
   "outputs": [
    {
     "name": "stdout",
     "output_type": "stream",
     "text": [
      "invalid dup list: 0\n"
     ]
    }
   ],
   "source": [
    "invalid_dup_list = functools.reduce(\n",
    "    lambda left, right: pd.concat([left, right]),\n",
    "    (v for v in different_group_dedup.values()),\n",
    ").drop_duplicates()\n",
    "\n",
    "invalid_dup_list = invalid_dup_list.drop(columns=[\"check\"])\n",
    "invalid_dup_list = invalid_dup_list.merge(\n",
    "    ieee_data[[\"check\", \"Document Title\"]],\n",
    "    left_on=\"Document Title\",\n",
    "    right_on=\"Document Title\",\n",
    "    how=\"left\",\n",
    ").rename(columns={\"check\": \"ieee check\"})\n",
    "invalid_dup_list = (\n",
    "    invalid_dup_list.merge(\n",
    "        acm_data[[\"check\", \"Title\"]],\n",
    "        left_on=\"Document Title\",\n",
    "        right_on=\"Title\",\n",
    "        how=\"left\",\n",
    "    )\n",
    "    .rename(columns={\"check\": \"acm check\"})\n",
    "    .dropna()\n",
    ")\n",
    "invalid_dup_list = (\n",
    "    invalid_dup_list.drop(\n",
    "        invalid_dup_list[\n",
    "            invalid_dup_list[\"ieee check\"] == invalid_dup_list[\"acm check\"]\n",
    "        ].index\n",
    "    )\n",
    "    .drop(invalid_dup_list[invalid_dup_list[\"ieee check\"] == \"\"].index)\n",
    "    .drop(invalid_dup_list[invalid_dup_list[\"acm check\"] == \"\"].index)\n",
    ")\n",
    "\n",
    "print(f\"invalid dup list: {len(invalid_dup_list)}\")\n",
    "\n",
    "invalid_dup_list.to_excel(DATA_PATH / \"invalid_dup_list.xlsx\")"
   ],
   "metadata": {
    "collapsed": false,
    "ExecuteTime": {
     "end_time": "2023-10-20T09:48:15.205896Z",
     "start_time": "2023-10-20T09:48:15.191498Z"
    }
   },
   "id": "b8b80c192cf3aaf9"
  },
  {
   "cell_type": "code",
   "execution_count": 12,
   "outputs": [
    {
     "name": "stdout",
     "output_type": "stream",
     "text": [
      "ieee not sure: 3\n",
      "acm not sure: 0\n"
     ]
    }
   ],
   "source": [
    "ieee_not_sure = (\n",
    "    grouped_ieee_data.get_group(\"-1\")\n",
    "    if \"-1\" in grouped_ieee_data.groups\n",
    "    else pd.DataFrame(index=ieee_data.index, columns=ieee_data.columns).dropna()\n",
    ")\n",
    "acm_not_sure = (\n",
    "    grouped_acm_data.get_group(\"-1\")\n",
    "    if \"-1\" in grouped_acm_data.groups\n",
    "    else pd.DataFrame(index=acm_data.index, columns=acm_data.columns).dropna()\n",
    ")\n",
    "\n",
    "print(f\"ieee not sure: {len(ieee_not_sure)}\")\n",
    "print(f\"acm not sure: {len(acm_not_sure)}\")"
   ],
   "metadata": {
    "collapsed": false,
    "ExecuteTime": {
     "end_time": "2023-10-20T09:48:15.209346Z",
     "start_time": "2023-10-20T09:48:15.206772Z"
    }
   },
   "id": "c8aff76bc384a7b5"
  },
  {
   "cell_type": "code",
   "execution_count": 15,
   "outputs": [],
   "source": [
    "for k, v in CHECK_MAPPING.items():\n",
    "    group_dup_data = group_dedup.get(k)\n",
    "    ieee_dump = (\n",
    "        grouped_ieee_data.get_group(k)\n",
    "        if k in grouped_ieee_data.groups\n",
    "        else pd.DataFrame(index=ieee_data.index, columns=ieee_data.columns).dropna()\n",
    "    )\n",
    "    acm_dump = (\n",
    "        grouped_acm_data.get_group(k)\n",
    "        if k in grouped_acm_data.groups\n",
    "        else pd.DataFrame(index=acm_data.index, columns=acm_data.columns).dropna()\n",
    "    )\n",
    "    ieee_dump = ieee_dump.drop(ieee_dump[ieee_dump['Document Title'].isin(group_dup_data['Document Title'])].index)[\n",
    "        [\n",
    "            \"Document Title\",\n",
    "            \"Authors\",\n",
    "            \"Publication Year\",\n",
    "            \"DOI\",\n",
    "            \"ISBNs\",\n",
    "            \"ISSN\",\n",
    "            \"PDF Link\",\n",
    "        ]\n",
    "    ].rename(\n",
    "        columns={\"Document Title\": \"Title\", \"PDF Link\": \"URL\"}\n",
    "    )\n",
    "    \n",
    "    acm_dump = acm_dump[\n",
    "        [\"Title\", \"Author\", \"Publication Year\", \"DOI\", \"ISBN\", \"ISSN\", \"Url\"]\n",
    "    ].rename(columns={\"Author\": \"Authors\", \"ISBN\": \"ISBNs\", \"Url\": \"URL\"})\n",
    "    \n",
    "    pd.concat([ieee_dump, acm_dump], axis=0).sort_values(by=['Publication Year', \"Title\", \"Authors\"]).to_excel(DATA_PATH / f\"dumped_{k}.xlsx\", index=False)"
   ],
   "metadata": {
    "collapsed": false,
    "ExecuteTime": {
     "end_time": "2023-10-20T09:48:43.627955Z",
     "start_time": "2023-10-20T09:48:43.519036Z"
    }
   },
   "id": "4b571a080796267b"
  },
  {
   "cell_type": "code",
   "execution_count": null,
   "outputs": [],
   "source": [],
   "metadata": {
    "collapsed": false
   },
   "id": "84ed7a9cbecd03c1"
  }
 ],
 "metadata": {
  "kernelspec": {
   "display_name": "Python 3",
   "language": "python",
   "name": "python3"
  },
  "language_info": {
   "codemirror_mode": {
    "name": "ipython",
    "version": 2
   },
   "file_extension": ".py",
   "mimetype": "text/x-python",
   "name": "python",
   "nbconvert_exporter": "python",
   "pygments_lexer": "ipython2",
   "version": "2.7.6"
  }
 },
 "nbformat": 4,
 "nbformat_minor": 5
}
