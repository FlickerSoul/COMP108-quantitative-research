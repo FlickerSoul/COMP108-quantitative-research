{
 "cells": [
  {
   "cell_type": "code",
   "execution_count": 1,
   "id": "initial_id",
   "metadata": {
    "collapsed": true,
    "ExecuteTime": {
     "end_time": "2023-10-20T00:31:37.668613Z",
     "start_time": "2023-10-20T00:31:37.375675Z"
    }
   },
   "outputs": [],
   "source": [
    "import pandas as pd\n",
    "from pathlib import Path\n",
    "from typing import Tuple\n",
    "import functools\n",
    "from pandas.core.groupby import DataFrameGroupBy\n",
    "import itertools"
   ]
  },
  {
   "cell_type": "code",
   "execution_count": 2,
   "outputs": [],
   "source": [
    "CHECK_MAPPING = {\n",
    "    \"-1\": \"NOT SURE\",\n",
    "    \"0\": \"NOT RELEVANT: BAD\",\n",
    "    \"1\": \"RELEVANT\",\n",
    "    \"2\": \"RELEVANT ENOUGH\",\n",
    "    \"3\": \"NOT RELEVANT: USED THE FIELD, NOT CONTRIBUTING\",\n",
    "    \"4\": \"NOT RELEVANT: FROM OTHER FIELD, NOT SEEING LINKS, LIKE \",\n",
    "    \"5\": \"NOT RELEVANT: IN SURROUNDING FIELD, NOT RELEVANT ENOUGH, LIKE VISUALIZATION TOOLS ETC.\",\n",
    "}\n",
    "\n",
    "DATA_PATH = Path(\"./xlsx\")\n",
    "IEEE_PATH = DATA_PATH / \"ieee-code_clone|detection-metadata.xlsx\"\n",
    "ACM_PATH = DATA_PATH / \"acm-code_clone|detection-abstract.xlsx\"\n",
    "\n",
    "DUP_SIGNATURE_FIELDS = [\n",
    "    (\"DOI\", \"DOI\"),\n",
    "    (\"ISBNs\", \"ISBN\"),\n",
    "    (\"ISSN\", \"ISSN\"),\n",
    "    (\"Abstract\", \"Abstract Note\"),\n",
    "    (\"Document Title\", \"Title\"),\n",
    "]"
   ],
   "metadata": {
    "collapsed": false,
    "ExecuteTime": {
     "end_time": "2023-10-20T00:31:37.672402Z",
     "start_time": "2023-10-20T00:31:37.668016Z"
    }
   },
   "id": "21d7848fef777a5d"
  },
  {
   "cell_type": "code",
   "execution_count": 3,
   "outputs": [],
   "source": [
    "def read_xlsx_and_group_by_check(path: Path) -> Tuple[pd.DataFrame, DataFrameGroupBy]:\n",
    "    excel_data = pd.read_excel(path, dtype=str)\n",
    "    excel_data.fillna(\"\", inplace=True)\n",
    "    groups = excel_data.groupby(\"check\")\n",
    "\n",
    "    for key in groups.indices:\n",
    "        assert key in CHECK_MAPPING, f\"index {key} not in check mapping\"\n",
    "\n",
    "    return excel_data, groups"
   ],
   "metadata": {
    "collapsed": false,
    "ExecuteTime": {
     "end_time": "2023-10-20T00:31:37.672553Z",
     "start_time": "2023-10-20T00:31:37.670738Z"
    }
   },
   "id": "b3280222aac45bfc"
  },
  {
   "cell_type": "code",
   "execution_count": 4,
   "outputs": [],
   "source": [
    "def summarize_xlsx_group(grouped: DataFrameGroupBy) -> None:\n",
    "    for check_flag, check_meaning in CHECK_MAPPING.items():\n",
    "        try:\n",
    "            group = grouped.get_group(check_flag)\n",
    "        except KeyError:\n",
    "            print(f\"{check_meaning}: no data\")\n",
    "        else:\n",
    "            print(f\"{check_meaning}: {len(group)}\")"
   ],
   "metadata": {
    "collapsed": false,
    "ExecuteTime": {
     "end_time": "2023-10-20T00:31:37.676275Z",
     "start_time": "2023-10-20T00:31:37.673175Z"
    }
   },
   "id": "616012ddfaf72f8f"
  },
  {
   "cell_type": "code",
   "execution_count": 5,
   "outputs": [],
   "source": [
    "def report_empty_in_field(data: pd.DataFrame, field: str) -> pd.DataFrame:\n",
    "    return data[data[field] == \"\"]"
   ],
   "metadata": {
    "collapsed": false,
    "ExecuteTime": {
     "end_time": "2023-10-20T00:31:37.679838Z",
     "start_time": "2023-10-20T00:31:37.676182Z"
    }
   },
   "id": "9eba0afe79179f12"
  },
  {
   "cell_type": "code",
   "execution_count": 6,
   "outputs": [],
   "source": [
    "def dedup_by_field(\n",
    "    table1: pd.DataFrame, table2: pd.DataFrame, field1: str = \"DOI\", field2: str = None\n",
    ") -> pd.DataFrame:\n",
    "    if field2 is None:\n",
    "        field2 = field1\n",
    "\n",
    "    intersection = table1.merge(\n",
    "        table2[[field2]],\n",
    "        left_on=table1[field1].str.lower(),\n",
    "        right_on=table2[field2].str.lower(),\n",
    "        how=\"inner\",\n",
    "    )\n",
    "\n",
    "    if field2 == field1:\n",
    "        intersection = (\n",
    "            intersection[\n",
    "                ~(\n",
    "                    (intersection[f\"{field1}_x\"] == \"\")\n",
    "                    | (intersection[f\"{field2}_y\"] == \"\")\n",
    "                )\n",
    "            ]\n",
    "            .drop(columns=[f\"{field2}_y\"])\n",
    "            .rename(columns={f\"{field1}_x\": field1})\n",
    "        )\n",
    "    else:\n",
    "        intersection = intersection[\n",
    "            ~((intersection[field1] == \"\") | (intersection[field2] == \"\"))\n",
    "        ].drop(columns=[field2])\n",
    "\n",
    "    return intersection.drop(columns=[\"key_0\"]).drop_duplicates()\n",
    "\n",
    "\n",
    "def dedup_by_fields(table1, table2, fields):\n",
    "    return functools.reduce(\n",
    "        (lambda left, right: pd.concat([left, right])),\n",
    "        map(lambda t: dedup_by_field(table1, table2, *t), fields),\n",
    "    ).drop_duplicates()"
   ],
   "metadata": {
    "collapsed": false,
    "ExecuteTime": {
     "end_time": "2023-10-20T00:31:37.684952Z",
     "start_time": "2023-10-20T00:31:37.679624Z"
    }
   },
   "id": "3dd3bbb83f4bda17"
  },
  {
   "cell_type": "code",
   "execution_count": 7,
   "outputs": [
    {
     "name": "stdout",
     "output_type": "stream",
     "text": [
      "NOT SURE: 3\n",
      "NOT RELEVANT: BAD: 26\n",
      "RELEVANT: 208\n",
      "RELEVANT ENOUGH: 18\n",
      "NOT RELEVANT: USED THE FIELD, NOT CONTRIBUTING: 49\n",
      "NOT RELEVANT: FROM OTHER FIELD, NOT SEEING LINKS, LIKE : 1\n",
      "NOT RELEVANT: IN SURROUNDING FIELD, NOT RELEVANT ENOUGH, LIKE VISUALIZATION TOOLS ETC.: 2\n"
     ]
    }
   ],
   "source": [
    "ieee_data, grouped_ieee_data = read_xlsx_and_group_by_check(IEEE_PATH)\n",
    "summarize_xlsx_group(grouped_ieee_data)"
   ],
   "metadata": {
    "collapsed": false,
    "ExecuteTime": {
     "end_time": "2023-10-20T00:31:37.830029Z",
     "start_time": "2023-10-20T00:31:37.681872Z"
    }
   },
   "id": "a6adc4f1e8ed2e64"
  },
  {
   "cell_type": "code",
   "execution_count": 8,
   "outputs": [
    {
     "name": "stdout",
     "output_type": "stream",
     "text": [
      "NOT SURE: no data\n",
      "NOT RELEVANT: BAD: 6\n",
      "RELEVANT: 58\n",
      "RELEVANT ENOUGH: 9\n",
      "NOT RELEVANT: USED THE FIELD, NOT CONTRIBUTING: 22\n",
      "NOT RELEVANT: FROM OTHER FIELD, NOT SEEING LINKS, LIKE : 1\n",
      "NOT RELEVANT: IN SURROUNDING FIELD, NOT RELEVANT ENOUGH, LIKE VISUALIZATION TOOLS ETC.: 1\n"
     ]
    }
   ],
   "source": [
    "acm_data, grouped_acm_data = read_xlsx_and_group_by_check(ACM_PATH)\n",
    "summarize_xlsx_group(grouped_acm_data)"
   ],
   "metadata": {
    "collapsed": false,
    "ExecuteTime": {
     "end_time": "2023-10-20T00:31:37.879087Z",
     "start_time": "2023-10-20T00:31:37.827539Z"
    }
   },
   "id": "9d2360113cea36f8"
  },
  {
   "cell_type": "code",
   "execution_count": 9,
   "outputs": [],
   "source": [
    "# see if there are duplicated ACM entries in IEEE\n",
    "# we filter those out before manually filtering\n",
    "group_dedup = {\n",
    "    group_id: dedup_by_fields(\n",
    "        grouped_ieee_data.get_group(group_id)\n",
    "        if group_id in grouped_ieee_data.groups\n",
    "        else pd.DataFrame(index=ieee_data.index, columns=ieee_data.columns),\n",
    "        grouped_acm_data.get_group(group_id)\n",
    "        if group_id in grouped_acm_data.groups\n",
    "        else pd.DataFrame(index=acm_data.index, columns=acm_data.columns),\n",
    "        DUP_SIGNATURE_FIELDS,\n",
    "    )\n",
    "    for group_id in CHECK_MAPPING.keys()\n",
    "}"
   ],
   "metadata": {
    "collapsed": false,
    "ExecuteTime": {
     "end_time": "2023-10-20T00:31:37.942230Z",
     "start_time": "2023-10-20T00:31:37.882997Z"
    }
   },
   "id": "7525ddd01ec24fdc"
  },
  {
   "cell_type": "code",
   "execution_count": 10,
   "outputs": [],
   "source": [
    "different_group_dedup = dict(\n",
    "    filter(\n",
    "        (lambda t: len(t[1]) > 0),\n",
    "        (\n",
    "            (\n",
    "                (group_id_1, group_id_2),\n",
    "                dedup_by_fields(\n",
    "                    grouped_ieee_data.get_group(group_id_1)\n",
    "                    if group_id_1 in grouped_ieee_data.groups\n",
    "                    else pd.DataFrame(index=ieee_data.index, columns=ieee_data.columns),\n",
    "                    grouped_acm_data.get_group(group_id_2)\n",
    "                    if group_id_2 in grouped_acm_data.groups\n",
    "                    else pd.DataFrame(index=acm_data.index, columns=acm_data.columns),\n",
    "                    DUP_SIGNATURE_FIELDS,\n",
    "                ),\n",
    "            )\n",
    "            for group_id_1, group_id_2 in itertools.product(\n",
    "                CHECK_MAPPING.keys(), CHECK_MAPPING.keys()\n",
    "            )\n",
    "            if group_id_1 != group_id_2\n",
    "        ),\n",
    "    )\n",
    ")"
   ],
   "metadata": {
    "collapsed": false,
    "ExecuteTime": {
     "end_time": "2023-10-20T00:31:38.213759Z",
     "start_time": "2023-10-20T00:31:37.946423Z"
    }
   },
   "id": "c9012cfabf486e1f"
  },
  {
   "cell_type": "code",
   "execution_count": 11,
   "outputs": [
    {
     "name": "stdout",
     "output_type": "stream",
     "text": [
      "invalid dup list: 17\n"
     ]
    }
   ],
   "source": [
    "invalid_dup_list = functools.reduce(\n",
    "    lambda left, right: pd.concat([left, right]),\n",
    "    (v for v in different_group_dedup.values()),\n",
    ").drop_duplicates()\n",
    "print(f\"invalid dup list: {len(invalid_dup_list)}\")"
   ],
   "metadata": {
    "collapsed": false,
    "ExecuteTime": {
     "end_time": "2023-10-20T00:31:38.222454Z",
     "start_time": "2023-10-20T00:31:38.215142Z"
    }
   },
   "id": "b8b80c192cf3aaf9"
  },
  {
   "cell_type": "code",
   "execution_count": 15,
   "outputs": [
    {
     "name": "stdout",
     "output_type": "stream",
     "text": [
      "ieee not sure: 3\n",
      "acm not sure: 0\n"
     ]
    }
   ],
   "source": [
    "ieee_not_sure = (\n",
    "    grouped_ieee_data.get_group(\"-1\")\n",
    "    if \"-1\" in grouped_ieee_data.groups\n",
    "    else pd.DataFrame(index=ieee_data.index, columns=ieee_data.columns).dropna()\n",
    ")\n",
    "acm_not_sure = (\n",
    "    grouped_acm_data.get_group(\"-1\")\n",
    "    if \"-1\" in grouped_acm_data.groups\n",
    "    else pd.DataFrame(index=acm_data.index, columns=acm_data.columns).dropna()\n",
    ")\n",
    "\n",
    "print(f\"ieee not sure: {len(ieee_not_sure)}\")\n",
    "print(f\"acm not sure: {len(acm_not_sure)}\")"
   ],
   "metadata": {
    "collapsed": false,
    "ExecuteTime": {
     "end_time": "2023-10-20T00:32:56.553172Z",
     "start_time": "2023-10-20T00:32:56.547294Z"
    }
   },
   "id": "c8aff76bc384a7b5"
  },
  {
   "cell_type": "code",
   "execution_count": null,
   "outputs": [],
   "source": [],
   "metadata": {
    "collapsed": false
   },
   "id": "daeabfed79fe488b"
  }
 ],
 "metadata": {
  "kernelspec": {
   "display_name": "Python 3",
   "language": "python",
   "name": "python3"
  },
  "language_info": {
   "codemirror_mode": {
    "name": "ipython",
    "version": 2
   },
   "file_extension": ".py",
   "mimetype": "text/x-python",
   "name": "python",
   "nbconvert_exporter": "python",
   "pygments_lexer": "ipython2",
   "version": "2.7.6"
  }
 },
 "nbformat": 4,
 "nbformat_minor": 5
}
